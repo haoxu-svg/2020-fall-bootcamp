{
 "cells": [
  {
   "cell_type": "code",
   "execution_count": 50,
   "metadata": {},
   "outputs": [
    {
     "name": "stdout",
     "output_type": "stream",
     "text": [
      "Requirement already satisfied: pythonds in /Users/xuhao/opt/anaconda3/lib/python3.7/site-packages (1.2.1)\n",
      "Note: you may need to restart the kernel to use updated packages.\n"
     ]
    }
   ],
   "source": [
    "pip install pythonds"
   ]
  },
  {
   "cell_type": "code",
   "execution_count": 52,
   "metadata": {},
   "outputs": [
    {
     "name": "stdout",
     "output_type": "stream",
     "text": [
      "[True, False, True, True, False]\n"
     ]
    }
   ],
   "source": [
    "#交易传输指令经常需要验证完整性\n",
    "from pythonds.basic import Stack\n",
    "def checkOrders(orders):\n",
    "    s=[]\n",
    "    for i in range(len(orders)):\n",
    "        order=orders[i]\n",
    "        def checkOrder(order):\n",
    "            s = Stack()\n",
    "            balanced = True\n",
    "            index = 0\n",
    "            while index < len(order) and balanced:\n",
    "                symbol = order[index]\n",
    "                if symbol in \"([{\":\n",
    "                    s.push(symbol)\n",
    "                else:\n",
    "                    if s.isEmpty():\n",
    "                        balanced = False\n",
    "                    else:\n",
    "                        top = s.pop()\n",
    "                        if not matches(top, symbol):\n",
    "                            balanced = False\n",
    "                index = index + 1\n",
    "            if balanced and s.isEmpty():\n",
    "                return True\n",
    "            else:\n",
    "                return False\n",
    "\n",
    "        def matches(open, close):\n",
    "            opens = \"([{\"\n",
    "            closers = \")]}\"\n",
    "            return opens.index(open) == closers.index(close)\n",
    "        \n",
    "        checkOrder(orders[i]) \n",
    "        \n",
    "        s.append(checkOrder(orders[i]))     \n",
    "    print(s)    \n",
    "checkOrders([\"()\", \"(\", \"{}[]\", \"[][][]\", \"[{]{]\"])"
   ]
  },
  {
   "cell_type": "code",
   "execution_count": 53,
   "metadata": {},
   "outputs": [
    {
     "data": {
      "text/plain": [
       "2"
      ]
     },
     "execution_count": 53,
     "metadata": {},
     "output_type": "execute_result"
    }
   ],
   "source": [
    "#2. 判断最慢的broker公司。\n",
    "def slowest(orders):\n",
    "    b=[]\n",
    "    for i in range(len(orders)):\n",
    "        if i==0:\n",
    "            b.append(orders[i][1])\n",
    "        else:\n",
    "            b.append(orders[i][1]-orders[i-1][1])\n",
    "        i=i+1\n",
    "\n",
    "    j=b.index(max(b))\n",
    "    return(orders[j][0])    \n",
    "    \n",
    "slowest([[0, 2], [1, 5], [2, 7], [0, 16], [3, 19], [4, 25], [2, 35]])\n",
    "\n",
    "\n",
    "    "
   ]
  },
  {
   "cell_type": "code",
   "execution_count": null,
   "metadata": {},
   "outputs": [],
   "source": []
  }
 ],
 "metadata": {
  "kernelspec": {
   "display_name": "Python 3",
   "language": "python",
   "name": "python3"
  },
  "language_info": {
   "codemirror_mode": {
    "name": "ipython",
    "version": 3
   },
   "file_extension": ".py",
   "mimetype": "text/x-python",
   "name": "python",
   "nbconvert_exporter": "python",
   "pygments_lexer": "ipython3",
   "version": "3.7.6"
  }
 },
 "nbformat": 4,
 "nbformat_minor": 4
}
